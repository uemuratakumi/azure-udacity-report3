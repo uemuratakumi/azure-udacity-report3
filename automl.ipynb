{
  "cells": [
    {
      "cell_type": "markdown",
      "source": [
        "# Automated ML\n",
        "\n",
        "TODO: Import Dependencies. In the cell below, import all the dependencies that you will need to complete the project."
      ],
      "metadata": {}
    },
    {
      "cell_type": "code",
      "source": [
        "from azureml.core import Workspace, Experiment\r\n",
        "from azureml.core import Model \r\n",
        "from azureml.train.automl import AutoMLConfig\r\n",
        "from azureml.widgets import RunDetails\r\n",
        "from azureml.core.compute import ComputeTarget, AmlCompute\r\n",
        "from pprint import pprint \r\n",
        "import joblib\r\n",
        "import os"
      ],
      "outputs": [],
      "execution_count": 1,
      "metadata": {
        "gather": {
          "logged": 1688709086712
        },
        "jupyter": {
          "outputs_hidden": false,
          "source_hidden": false
        },
        "nteract": {
          "transient": {
            "deleting": false
          }
        }
      }
    },
    {
      "cell_type": "markdown",
      "source": [
        "## Dataset\n",
        "\n",
        "### Overview\n",
        "TODO: In this markdown cell, give an overview of the dataset you are using. Also mention the task you will be performing.\n",
        "\n",
        "\n",
        "TODO: Get data. In the cell below, write code to access the data you will be using in this project. Remember that the dataset needs to be external."
      ],
      "metadata": {}
    },
    {
      "cell_type": "markdown",
      "source": [
        "Data set of BOSTON is used for this project.\r\n",
        "In this data, there are alot of features that is related to the price of house and house price data in Boston city.\r\n",
        "\r\n",
        "In this project I use all features as a input and price of house as output, and I create the model of regression."
      ],
      "metadata": {
        "nteract": {
          "transient": {
            "deleting": false
          }
        }
      }
    },
    {
      "cell_type": "code",
      "source": [
        "import sklearn.datasets\r\n",
        "from sklearn.model_selection import train_test_split\r\n",
        "import random\r\n",
        "import pandas as pd\r\n",
        "data  = sklearn.datasets.load_boston()\r\n",
        "df_X = pd.DataFrame(data.data, columns=data.feature_names)\r\n",
        "df_Y = pd.DataFrame(data.target, columns=['PRICE'])\r\n",
        "df = pd.concat([df_X, df_Y],axis=1)"
      ],
      "outputs": [],
      "execution_count": 2,
      "metadata": {
        "jupyter": {
          "source_hidden": false,
          "outputs_hidden": false
        },
        "nteract": {
          "transient": {
            "deleting": false
          }
        },
        "gather": {
          "logged": 1688709090452
        }
      }
    },
    {
      "cell_type": "code",
      "source": [
        "df"
      ],
      "outputs": [
        {
          "output_type": "execute_result",
          "execution_count": 3,
          "data": {
            "text/plain": "        CRIM    ZN  INDUS  CHAS    NOX     RM   AGE     DIS  RAD    TAX  \\\n0    0.00632  18.0   2.31   0.0  0.538  6.575  65.2  4.0900  1.0  296.0   \n1    0.02731   0.0   7.07   0.0  0.469  6.421  78.9  4.9671  2.0  242.0   \n2    0.02729   0.0   7.07   0.0  0.469  7.185  61.1  4.9671  2.0  242.0   \n3    0.03237   0.0   2.18   0.0  0.458  6.998  45.8  6.0622  3.0  222.0   \n4    0.06905   0.0   2.18   0.0  0.458  7.147  54.2  6.0622  3.0  222.0   \n..       ...   ...    ...   ...    ...    ...   ...     ...  ...    ...   \n501  0.06263   0.0  11.93   0.0  0.573  6.593  69.1  2.4786  1.0  273.0   \n502  0.04527   0.0  11.93   0.0  0.573  6.120  76.7  2.2875  1.0  273.0   \n503  0.06076   0.0  11.93   0.0  0.573  6.976  91.0  2.1675  1.0  273.0   \n504  0.10959   0.0  11.93   0.0  0.573  6.794  89.3  2.3889  1.0  273.0   \n505  0.04741   0.0  11.93   0.0  0.573  6.030  80.8  2.5050  1.0  273.0   \n\n     PTRATIO       B  LSTAT  PRICE  \n0       15.3  396.90   4.98   24.0  \n1       17.8  396.90   9.14   21.6  \n2       17.8  392.83   4.03   34.7  \n3       18.7  394.63   2.94   33.4  \n4       18.7  396.90   5.33   36.2  \n..       ...     ...    ...    ...  \n501     21.0  391.99   9.67   22.4  \n502     21.0  396.90   9.08   20.6  \n503     21.0  396.90   5.64   23.9  \n504     21.0  393.45   6.48   22.0  \n505     21.0  396.90   7.88   11.9  \n\n[506 rows x 14 columns]",
            "text/html": "<div>\n<style scoped>\n    .dataframe tbody tr th:only-of-type {\n        vertical-align: middle;\n    }\n\n    .dataframe tbody tr th {\n        vertical-align: top;\n    }\n\n    .dataframe thead th {\n        text-align: right;\n    }\n</style>\n<table border=\"1\" class=\"dataframe\">\n  <thead>\n    <tr style=\"text-align: right;\">\n      <th></th>\n      <th>CRIM</th>\n      <th>ZN</th>\n      <th>INDUS</th>\n      <th>CHAS</th>\n      <th>NOX</th>\n      <th>RM</th>\n      <th>AGE</th>\n      <th>DIS</th>\n      <th>RAD</th>\n      <th>TAX</th>\n      <th>PTRATIO</th>\n      <th>B</th>\n      <th>LSTAT</th>\n      <th>PRICE</th>\n    </tr>\n  </thead>\n  <tbody>\n    <tr>\n      <th>0</th>\n      <td>0.00632</td>\n      <td>18.0</td>\n      <td>2.31</td>\n      <td>0.0</td>\n      <td>0.538</td>\n      <td>6.575</td>\n      <td>65.2</td>\n      <td>4.0900</td>\n      <td>1.0</td>\n      <td>296.0</td>\n      <td>15.3</td>\n      <td>396.90</td>\n      <td>4.98</td>\n      <td>24.0</td>\n    </tr>\n    <tr>\n      <th>1</th>\n      <td>0.02731</td>\n      <td>0.0</td>\n      <td>7.07</td>\n      <td>0.0</td>\n      <td>0.469</td>\n      <td>6.421</td>\n      <td>78.9</td>\n      <td>4.9671</td>\n      <td>2.0</td>\n      <td>242.0</td>\n      <td>17.8</td>\n      <td>396.90</td>\n      <td>9.14</td>\n      <td>21.6</td>\n    </tr>\n    <tr>\n      <th>2</th>\n      <td>0.02729</td>\n      <td>0.0</td>\n      <td>7.07</td>\n      <td>0.0</td>\n      <td>0.469</td>\n      <td>7.185</td>\n      <td>61.1</td>\n      <td>4.9671</td>\n      <td>2.0</td>\n      <td>242.0</td>\n      <td>17.8</td>\n      <td>392.83</td>\n      <td>4.03</td>\n      <td>34.7</td>\n    </tr>\n    <tr>\n      <th>3</th>\n      <td>0.03237</td>\n      <td>0.0</td>\n      <td>2.18</td>\n      <td>0.0</td>\n      <td>0.458</td>\n      <td>6.998</td>\n      <td>45.8</td>\n      <td>6.0622</td>\n      <td>3.0</td>\n      <td>222.0</td>\n      <td>18.7</td>\n      <td>394.63</td>\n      <td>2.94</td>\n      <td>33.4</td>\n    </tr>\n    <tr>\n      <th>4</th>\n      <td>0.06905</td>\n      <td>0.0</td>\n      <td>2.18</td>\n      <td>0.0</td>\n      <td>0.458</td>\n      <td>7.147</td>\n      <td>54.2</td>\n      <td>6.0622</td>\n      <td>3.0</td>\n      <td>222.0</td>\n      <td>18.7</td>\n      <td>396.90</td>\n      <td>5.33</td>\n      <td>36.2</td>\n    </tr>\n    <tr>\n      <th>...</th>\n      <td>...</td>\n      <td>...</td>\n      <td>...</td>\n      <td>...</td>\n      <td>...</td>\n      <td>...</td>\n      <td>...</td>\n      <td>...</td>\n      <td>...</td>\n      <td>...</td>\n      <td>...</td>\n      <td>...</td>\n      <td>...</td>\n      <td>...</td>\n    </tr>\n    <tr>\n      <th>501</th>\n      <td>0.06263</td>\n      <td>0.0</td>\n      <td>11.93</td>\n      <td>0.0</td>\n      <td>0.573</td>\n      <td>6.593</td>\n      <td>69.1</td>\n      <td>2.4786</td>\n      <td>1.0</td>\n      <td>273.0</td>\n      <td>21.0</td>\n      <td>391.99</td>\n      <td>9.67</td>\n      <td>22.4</td>\n    </tr>\n    <tr>\n      <th>502</th>\n      <td>0.04527</td>\n      <td>0.0</td>\n      <td>11.93</td>\n      <td>0.0</td>\n      <td>0.573</td>\n      <td>6.120</td>\n      <td>76.7</td>\n      <td>2.2875</td>\n      <td>1.0</td>\n      <td>273.0</td>\n      <td>21.0</td>\n      <td>396.90</td>\n      <td>9.08</td>\n      <td>20.6</td>\n    </tr>\n    <tr>\n      <th>503</th>\n      <td>0.06076</td>\n      <td>0.0</td>\n      <td>11.93</td>\n      <td>0.0</td>\n      <td>0.573</td>\n      <td>6.976</td>\n      <td>91.0</td>\n      <td>2.1675</td>\n      <td>1.0</td>\n      <td>273.0</td>\n      <td>21.0</td>\n      <td>396.90</td>\n      <td>5.64</td>\n      <td>23.9</td>\n    </tr>\n    <tr>\n      <th>504</th>\n      <td>0.10959</td>\n      <td>0.0</td>\n      <td>11.93</td>\n      <td>0.0</td>\n      <td>0.573</td>\n      <td>6.794</td>\n      <td>89.3</td>\n      <td>2.3889</td>\n      <td>1.0</td>\n      <td>273.0</td>\n      <td>21.0</td>\n      <td>393.45</td>\n      <td>6.48</td>\n      <td>22.0</td>\n    </tr>\n    <tr>\n      <th>505</th>\n      <td>0.04741</td>\n      <td>0.0</td>\n      <td>11.93</td>\n      <td>0.0</td>\n      <td>0.573</td>\n      <td>6.030</td>\n      <td>80.8</td>\n      <td>2.5050</td>\n      <td>1.0</td>\n      <td>273.0</td>\n      <td>21.0</td>\n      <td>396.90</td>\n      <td>7.88</td>\n      <td>11.9</td>\n    </tr>\n  </tbody>\n</table>\n<p>506 rows × 14 columns</p>\n</div>"
          },
          "metadata": {}
        }
      ],
      "execution_count": 3,
      "metadata": {
        "jupyter": {
          "source_hidden": false,
          "outputs_hidden": false
        },
        "nteract": {
          "transient": {
            "deleting": false
          }
        },
        "gather": {
          "logged": 1688709091582
        }
      }
    },
    {
      "cell_type": "code",
      "source": [
        "ws = Workspace.from_config()\n",
        "\n",
        "# choose a name for experiment\n",
        "experiment_name = 'report3-boston-predict'\n",
        "experiment=Experiment(ws, experiment_name)"
      ],
      "outputs": [],
      "execution_count": 5,
      "metadata": {
        "gather": {
          "logged": 1688709110444
        },
        "jupyter": {
          "outputs_hidden": false,
          "source_hidden": false
        },
        "nteract": {
          "transient": {
            "deleting": false
          }
        }
      }
    },
    {
      "cell_type": "markdown",
      "source": [
        "## AutoML Configuration\n",
        "\n",
        "TODO: Explain why you chose the automl settings and cofiguration you used below.\n",
        "\n",
        "Since this is regression task, I set task of AutoMLConfig equal 'regression'.\n",
        "And I want to make the model that has more linearity, so I set primary_metric to 'peason_correlation' \n",
        "But this is not real project, I set early stopping strictly.\n",
        "Other logging setting is same with sample of SDK."
      ],
      "metadata": {}
    },
    {
      "cell_type": "code",
      "source": [
        "# TODO: Put your automl settings here\n",
        "from azureml.train.automl import AutoMLConfig\n",
        "automl_settings = {\n",
        "    \"iteration_timeout_minutes\": 10,\n",
        "    \"experiment_timeout_hours\": 0.3,\n",
        "    \"enable_early_stopping\": True,\n",
        "    \"primary_metric\": 'normalized_root_mean_squared_error',\n",
        "    \"featurization\": 'auto',\n",
        "    \"verbosity\": logging.INFO,\n",
        "    \"n_cross_validations\": 5\n",
        "}\n",
        "\n",
        "# TODO: Put your automl config here\n",
        "automl_config = AutoMLConfig(task='regression',\n",
        "                             debug_log='automated_ml_errors.log',\n",
        "                             training_data=df,\n",
        "                             label_column_name=\"PRICE\",\n",
        "                             **automl_settings)"
      ],
      "outputs": [],
      "execution_count": 6,
      "metadata": {
        "gather": {
          "logged": 1688709120122
        },
        "jupyter": {
          "outputs_hidden": false,
          "source_hidden": false
        },
        "nteract": {
          "transient": {
            "deleting": false
          }
        }
      }
    },
    {
      "cell_type": "code",
      "source": [
        "# TODO: Submit your experiment\n",
        "remote_run = experiment.submit(automl_config)"
      ],
      "outputs": [
        {
          "output_type": "stream",
          "name": "stderr",
          "text": "2023-07-07:05:52:28,943 WARNING  [local_experiment_driver.py:142] Running on local machine. Note that local runs always run synchronously even if you use the parameter 'show_output=False'\n"
        },
        {
          "output_type": "display_data",
          "data": {
            "text/plain": "<IPython.core.display.HTML object>",
            "text/html": "<table style=\"width:100%\"><tr><th>Experiment</th><th>Id</th><th>Type</th><th>Status</th><th>Details Page</th><th>Docs Page</th></tr><tr><td>report3-boston-predict</td><td>AutoML_e61e9cf9-07a6-4cdb-9ac4-6a0b475972f7</td><td>automl</td><td>Preparing</td><td><a href=\"https://ml.azure.com/runs/AutoML_e61e9cf9-07a6-4cdb-9ac4-6a0b475972f7?wsid=/subscriptions/8d1a13c1-dda4-4fdf-a927-e08a4213f4e3/resourcegroups/resoure-udacity/workspaces/ws-udacity&amp;tid=71373672-464e-4725-990c-20c60c08821e\" target=\"_blank\" rel=\"noopener\">Link to Azure Machine Learning studio</a></td><td><a href=\"https://docs.microsoft.com/en-us/python/api/overview/azure/ml/intro?view=azure-ml-py\" target=\"_blank\" rel=\"noopener\">Link to Documentation</a></td></tr></table>"
          },
          "metadata": {}
        },
        {
          "output_type": "stream",
          "name": "stderr",
          "text": "2023/07/07 05:52:35 WARNING mlflow.sklearn: Model was missing function: predict. Not logging python_function flavor!\n"
        }
      ],
      "execution_count": 7,
      "metadata": {
        "gather": {
          "logged": 1688710141497
        },
        "jupyter": {
          "outputs_hidden": false,
          "source_hidden": false
        },
        "nteract": {
          "transient": {
            "deleting": false
          }
        }
      }
    },
    {
      "cell_type": "markdown",
      "source": [
        "## Run Details\n",
        "\n",
        "OPTIONAL: Write about the different models trained and their performance. Why do you think some models did better than others?\n",
        "\n",
        "TODO: In the cell below, use the `RunDetails` widget to show the different experiments."
      ],
      "metadata": {}
    },
    {
      "cell_type": "code",
      "source": [
        "from azureml.widgets import RunDetails\r\n",
        "RunDetails(remote_run).show()"
      ],
      "outputs": [
        {
          "output_type": "display_data",
          "data": {
            "text/plain": "_AutoMLWidget(widget_settings={'childWidgetDisplay': 'popup', 'send_telemetry': False, 'log_level': 'INFO', 's…",
            "application/vnd.jupyter.widget-view+json": {
              "version_major": 2,
              "version_minor": 0,
              "model_id": "505a03f19a5f49e3a523bc953dad157a"
            }
          },
          "metadata": {}
        },
        {
          "output_type": "display_data",
          "data": {
            "application/aml.mini.widget.v1": "{\"status\": \"Canceled\", \"workbench_run_details_uri\": \"https://ml.azure.com/runs/AutoML_e61e9cf9-07a6-4cdb-9ac4-6a0b475972f7?wsid=/subscriptions/8d1a13c1-dda4-4fdf-a927-e08a4213f4e3/resourcegroups/resoure-udacity/workspaces/ws-udacity&tid=71373672-464e-4725-990c-20c60c08821e\", \"run_id\": \"AutoML_e61e9cf9-07a6-4cdb-9ac4-6a0b475972f7\", \"run_properties\": {\"run_id\": \"AutoML_e61e9cf9-07a6-4cdb-9ac4-6a0b475972f7\", \"created_utc\": \"2023-07-07T05:52:30.15093Z\", \"properties\": {\"num_iterations\": \"1000\", \"training_type\": \"TrainFull\", \"acquisition_function\": \"EI\", \"primary_metric\": \"normalized_root_mean_squared_error\", \"train_split\": \"0\", \"acquisition_parameter\": \"0\", \"num_cross_validation\": \"5\", \"target\": \"local\", \"AMLSettingsJsonString\": \"{\\\"path\\\":null,\\\"name\\\":\\\"report3-boston-predict\\\",\\\"subscription_id\\\":\\\"8d1a13c1-dda4-4fdf-a927-e08a4213f4e3\\\",\\\"resource_group\\\":\\\"resoure-udacity\\\",\\\"workspace_name\\\":\\\"ws-udacity\\\",\\\"region\\\":\\\"japaneast\\\",\\\"compute_target\\\":\\\"local\\\",\\\"spark_service\\\":null,\\\"azure_service\\\":\\\"Microsoft.AzureNotebookVM\\\",\\\"many_models\\\":false,\\\"pipeline_fetch_max_batch_size\\\":1,\\\"enable_batch_run\\\":false,\\\"enable_parallel_run\\\":false,\\\"num_procs\\\":null,\\\"enable_run_restructure\\\":false,\\\"start_auxiliary_runs_before_parent_complete\\\":false,\\\"enable_code_generation\\\":true,\\\"iterations\\\":1000,\\\"primary_metric\\\":\\\"normalized_root_mean_squared_error\\\",\\\"task_type\\\":\\\"regression\\\",\\\"positive_label\\\":null,\\\"data_script\\\":null,\\\"test_size\\\":0.0,\\\"test_include_predictions_only\\\":false,\\\"validation_size\\\":0.0,\\\"n_cross_validations\\\":5,\\\"y_min\\\":null,\\\"y_max\\\":null,\\\"num_classes\\\":null,\\\"featurization\\\":\\\"auto\\\",\\\"_ignore_package_version_incompatibilities\\\":false,\\\"is_timeseries\\\":false,\\\"max_cores_per_iteration\\\":1,\\\"max_concurrent_iterations\\\":1,\\\"iteration_timeout_minutes\\\":10,\\\"mem_in_mb\\\":null,\\\"enforce_time_on_windows\\\":false,\\\"experiment_timeout_minutes\\\":18,\\\"experiment_exit_score\\\":null,\\\"partition_column_names\\\":null,\\\"whitelist_models\\\":null,\\\"blacklist_algos\\\":[\\\"TensorFlowDNN\\\",\\\"TensorFlowLinearRegressor\\\"],\\\"supported_models\\\":[\\\"RandomForest\\\",\\\"ExtremeRandomTrees\\\",\\\"KNN\\\",\\\"SGD\\\",\\\"TabnetRegressor\\\",\\\"XGBoostRegressor\\\",\\\"LightGBM\\\",\\\"TensorFlowLinearRegressor\\\",\\\"FastLinearRegressor\\\",\\\"ElasticNet\\\",\\\"OnlineGradientDescentRegressor\\\",\\\"GradientBoosting\\\",\\\"TensorFlowDNN\\\",\\\"DecisionTree\\\",\\\"LassoLars\\\"],\\\"private_models\\\":[],\\\"auto_blacklist\\\":true,\\\"blacklist_samples_reached\\\":false,\\\"exclude_nan_labels\\\":true,\\\"verbosity\\\":20,\\\"_debug_log\\\":\\\"automated_ml_errors.log\\\",\\\"show_warnings\\\":false,\\\"model_explainability\\\":true,\\\"service_url\\\":null,\\\"sdk_url\\\":null,\\\"sdk_packages\\\":null,\\\"enable_onnx_compatible_models\\\":false,\\\"enable_split_onnx_featurizer_estimator_models\\\":false,\\\"vm_type\\\":null,\\\"telemetry_verbosity\\\":20,\\\"send_telemetry\\\":true,\\\"enable_dnn\\\":false,\\\"scenario\\\":\\\"AutoML\\\",\\\"environment_label\\\":null,\\\"save_mlflow\\\":false,\\\"enable_categorical_indicators\\\":false,\\\"force_text_dnn\\\":false,\\\"enable_feature_sweeping\\\":true,\\\"enable_early_stopping\\\":true,\\\"early_stopping_n_iters\\\":10,\\\"arguments\\\":null,\\\"dataset_id\\\":null,\\\"hyperdrive_config\\\":null,\\\"validation_dataset_id\\\":null,\\\"run_source\\\":null,\\\"metrics\\\":null,\\\"enable_metric_confidence\\\":false,\\\"enable_ensembling\\\":true,\\\"enable_stack_ensembling\\\":true,\\\"ensemble_iterations\\\":15,\\\"enable_tf\\\":false,\\\"enable_subsampling\\\":null,\\\"subsample_seed\\\":null,\\\"enable_nimbusml\\\":false,\\\"enable_streaming\\\":false,\\\"force_streaming\\\":false,\\\"track_child_runs\\\":true,\\\"n_best_runs\\\":1,\\\"allowed_private_models\\\":[],\\\"label_column_name\\\":\\\"PRICE\\\",\\\"weight_column_name\\\":null,\\\"cv_split_column_names\\\":null,\\\"enable_local_managed\\\":false,\\\"_local_managed_run_id\\\":null,\\\"cost_mode\\\":1,\\\"lag_length\\\":0,\\\"metric_operation\\\":\\\"minimize\\\",\\\"preprocess\\\":true}\", \"DataPrepJsonString\": null, \"EnableSubsampling\": null, \"runTemplate\": \"AutoML\", \"azureml.runsource\": \"automl\", \"display_task_type\": \"regression\", \"dependencies_versions\": \"{\\\"azureml-widgets\\\": \\\"1.49.0\\\", \\\"azureml-training-tabular\\\": \\\"1.49.0\\\", \\\"azureml-train\\\": \\\"1.49.0\\\", \\\"azureml-train-restclients-hyperdrive\\\": \\\"1.49.0\\\", \\\"azureml-train-core\\\": \\\"1.49.0\\\", \\\"azureml-train-automl\\\": \\\"1.49.0\\\", \\\"azureml-train-automl-runtime\\\": \\\"1.49.0\\\", \\\"azureml-train-automl-client\\\": \\\"1.49.0\\\", \\\"azureml-tensorboard\\\": \\\"1.49.0\\\", \\\"azureml-telemetry\\\": \\\"1.49.0\\\", \\\"azureml-sdk\\\": \\\"1.49.0\\\", \\\"azureml-responsibleai\\\": \\\"1.49.0\\\", \\\"azureml-pipeline\\\": \\\"1.49.0\\\", \\\"azureml-pipeline-steps\\\": \\\"1.49.0\\\", \\\"azureml-pipeline-core\\\": \\\"1.49.0\\\", \\\"azureml-opendatasets\\\": \\\"1.49.0\\\", \\\"azureml-mlflow\\\": \\\"1.49.0\\\", \\\"azureml-interpret\\\": \\\"1.49.0\\\", \\\"azureml-inference-server-http\\\": \\\"0.8.0\\\", \\\"azureml-explain-model\\\": \\\"1.49.0\\\", \\\"azureml-defaults\\\": \\\"1.49.0\\\", \\\"azureml-dataset-runtime\\\": \\\"1.49.0\\\", \\\"azureml-dataprep\\\": \\\"4.9.1\\\", \\\"azureml-dataprep-rslex\\\": \\\"2.16.1\\\", \\\"azureml-dataprep-native\\\": \\\"38.0.0\\\", \\\"azureml-datadrift\\\": \\\"1.49.0\\\", \\\"azureml-core\\\": \\\"1.49.0\\\", \\\"azureml-contrib-services\\\": \\\"1.49.0\\\", \\\"azureml-contrib-server\\\": \\\"1.49.0\\\", \\\"azureml-contrib-reinforcementlearning\\\": \\\"1.49.0\\\", \\\"azureml-contrib-pipeline-steps\\\": \\\"1.49.0\\\", \\\"azureml-contrib-notebook\\\": \\\"1.49.0\\\", \\\"azureml-contrib-fairness\\\": \\\"1.49.0\\\", \\\"azureml-contrib-dataset\\\": \\\"1.49.0\\\", \\\"azureml-contrib-automl-pipeline-steps\\\": \\\"1.49.0\\\", \\\"azureml-cli-common\\\": \\\"1.49.0\\\", \\\"azureml-automl-runtime\\\": \\\"1.49.0\\\", \\\"azureml-automl-dnn-nlp\\\": \\\"1.49.0\\\", \\\"azureml-automl-core\\\": \\\"1.49.0\\\", \\\"azureml-accel-models\\\": \\\"1.49.0\\\"}\", \"_aml_system_scenario_identification\": \"Local.Parent\", \"ClientSdkVersion\": \"1.49.0\", \"ClientType\": \"SDK\", \"PlatformVersion\": \"DPV1\", \"environment_cpu_name\": \"AzureML-AutoML\", \"environment_cpu_label\": \"prod\", \"environment_gpu_name\": \"AzureML-AutoML-GPU\", \"environment_gpu_label\": \"prod\", \"root_attribution\": \"automl\", \"attribution\": \"AutoML\", \"Orchestrator\": \"AutoML\", \"_azureml.ComputeTargetType\": \"local\", \"ProblemInfoJsonString\": \"{\\\"dataset_num_categorical\\\": 0, \\\"is_sparse\\\": false, \\\"subsampling\\\": false, \\\"has_extra_col\\\": true, \\\"dataset_classes\\\": 229, \\\"dataset_features\\\": 13, \\\"dataset_samples\\\": 506, \\\"single_frequency_class_detected\\\": false}\"}, \"tags\": {\"model_explain_run\": \"best_run\", \"_aml_system_automl_run_workspace_id\": \"3c8fa8bf-a04b-4ee5-ac90-1096192aebbb\", \"dynamic_allowlisting_iterations\": \"<25>;\", \"automl_best_child_run_id\": \"AutoML_e61e9cf9-07a6-4cdb-9ac4-6a0b475972f7_1\"}, \"end_time_utc\": \"2023-07-07T06:09:03.649457Z\", \"status\": \"Canceled\", \"log_files\": {}, \"log_groups\": [], \"run_duration\": \"0:16:33\", \"run_number\": \"1688709150\", \"run_queued_details\": {\"status\": \"Canceled\", \"details\": null}}, \"child_runs\": [{\"run_id\": \"AutoML_e61e9cf9-07a6-4cdb-9ac4-6a0b475972f7_0\", \"run_number\": 1688709156, \"metric\": null, \"status\": \"Completed\", \"run_type\": null, \"training_percent\": \"100\", \"start_time\": \"2023-07-07T05:52:36.837725Z\", \"end_time\": \"2023-07-07T05:53:09.062177Z\", \"created_time\": \"2023-07-07T05:52:36.60784Z\", \"created_time_dt\": \"2023-07-07T05:52:36.60784Z\", \"duration\": \"0:00:32\", \"iteration\": \"0\", \"goal\": \"normalized_root_mean_squared_error_min\", \"run_name\": \"MaxAbsScaler, LightGBM\", \"run_properties\": \"copy=True\", \"primary_metric\": 0.07401667, \"best_metric\": 0.07401667}, {\"run_id\": \"AutoML_e61e9cf9-07a6-4cdb-9ac4-6a0b475972f7_1\", \"run_number\": 1688709189, \"metric\": null, \"status\": \"Completed\", \"run_type\": null, \"training_percent\": \"100\", \"start_time\": \"2023-07-07T05:53:09.907539Z\", \"end_time\": \"2023-07-07T05:53:42.678903Z\", \"created_time\": \"2023-07-07T05:53:09.630715Z\", \"created_time_dt\": \"2023-07-07T05:53:09.630715Z\", \"duration\": \"0:00:33\", \"iteration\": \"1\", \"goal\": \"normalized_root_mean_squared_error_min\", \"run_name\": \"MaxAbsScaler, XGBoostRegressor\", \"run_properties\": \"copy=True\", \"primary_metric\": 0.07081603, \"best_metric\": 0.07081603}, {\"run_id\": \"AutoML_e61e9cf9-07a6-4cdb-9ac4-6a0b475972f7_2\", \"run_number\": 1688709223, \"metric\": null, \"status\": \"Completed\", \"run_type\": null, \"training_percent\": \"100\", \"start_time\": \"2023-07-07T05:53:43.858439Z\", \"end_time\": \"2023-07-07T05:54:13.748334Z\", \"created_time\": \"2023-07-07T05:53:43.615502Z\", \"created_time_dt\": \"2023-07-07T05:53:43.615502Z\", \"duration\": \"0:00:30\", \"iteration\": \"2\", \"goal\": \"normalized_root_mean_squared_error_min\", \"run_name\": \"MaxAbsScaler, ElasticNet\", \"run_properties\": \"copy=True\", \"primary_metric\": 0.10848183, \"best_metric\": 0.07081603}, {\"run_id\": \"AutoML_e61e9cf9-07a6-4cdb-9ac4-6a0b475972f7_3\", \"run_number\": 1688709255, \"metric\": null, \"status\": \"Completed\", \"run_type\": null, \"training_percent\": \"100\", \"start_time\": \"2023-07-07T05:54:15.708951Z\", \"end_time\": \"2023-07-07T05:54:45.74656Z\", \"created_time\": \"2023-07-07T05:54:15.461593Z\", \"created_time_dt\": \"2023-07-07T05:54:15.461593Z\", \"duration\": \"0:00:30\", \"iteration\": \"3\", \"goal\": \"normalized_root_mean_squared_error_min\", \"run_name\": \"RobustScaler, ElasticNet\", \"run_properties\": \"copy=True, quantile_range=[10, 90], with_centering=True,\\n             with_scaling=False\", \"primary_metric\": 0.10860078, \"best_metric\": 0.07081603}, {\"run_id\": \"AutoML_e61e9cf9-07a6-4cdb-9ac4-6a0b475972f7_4\", \"run_number\": 1688709287, \"metric\": null, \"status\": \"Completed\", \"run_type\": null, \"training_percent\": \"100\", \"start_time\": \"2023-07-07T05:54:47.588243Z\", \"end_time\": \"2023-07-07T05:55:17.277523Z\", \"created_time\": \"2023-07-07T05:54:47.259461Z\", \"created_time_dt\": \"2023-07-07T05:54:47.259461Z\", \"duration\": \"0:00:30\", \"iteration\": \"4\", \"goal\": \"normalized_root_mean_squared_error_min\", \"run_name\": \"MinMaxScaler, ElasticNet\", \"run_properties\": \"copy=True, feature_range=(0, 1\", \"primary_metric\": 0.10848895, \"best_metric\": 0.07081603}, {\"run_id\": \"AutoML_e61e9cf9-07a6-4cdb-9ac4-6a0b475972f7_5\", \"run_number\": 1688709318, \"metric\": null, \"status\": \"Completed\", \"run_type\": null, \"training_percent\": \"100\", \"start_time\": \"2023-07-07T05:55:19.039452Z\", \"end_time\": \"2023-07-07T05:55:48.693626Z\", \"created_time\": \"2023-07-07T05:55:18.775334Z\", \"created_time_dt\": \"2023-07-07T05:55:18.775334Z\", \"duration\": \"0:00:29\", \"iteration\": \"5\", \"goal\": \"normalized_root_mean_squared_error_min\", \"run_name\": \"StandardScalerWrapper, ElasticNet\", \"run_properties\": \"copy=True, with_mean=False, with_std=True\", \"primary_metric\": 0.10855493, \"best_metric\": 0.07081603}, {\"run_id\": \"AutoML_e61e9cf9-07a6-4cdb-9ac4-6a0b475972f7_6\", \"run_number\": 1688709350, \"metric\": null, \"status\": \"Completed\", \"run_type\": null, \"training_percent\": \"100\", \"start_time\": \"2023-07-07T05:55:50.520879Z\", \"end_time\": \"2023-07-07T05:56:21.400292Z\", \"created_time\": \"2023-07-07T05:55:50.280467Z\", \"created_time_dt\": \"2023-07-07T05:55:50.280467Z\", \"duration\": \"0:00:31\", \"iteration\": \"6\", \"goal\": \"normalized_root_mean_squared_error_min\", \"run_name\": \"MinMaxScaler, RandomForest\", \"run_properties\": \"copy=True, feature_range=(0, 1\", \"primary_metric\": 0.07944411, \"best_metric\": 0.07081603}, {\"run_id\": \"AutoML_e61e9cf9-07a6-4cdb-9ac4-6a0b475972f7_7\", \"run_number\": 1688709382, \"metric\": null, \"status\": \"Completed\", \"run_type\": null, \"training_percent\": \"100\", \"start_time\": \"2023-07-07T05:56:23.174624Z\", \"end_time\": \"2023-07-07T05:56:53.02597Z\", \"created_time\": \"2023-07-07T05:56:22.884727Z\", \"created_time_dt\": \"2023-07-07T05:56:22.884727Z\", \"duration\": \"0:00:30\", \"iteration\": \"7\", \"goal\": \"normalized_root_mean_squared_error_min\", \"run_name\": \"MaxAbsScaler, ElasticNet\", \"run_properties\": \"copy=True\", \"primary_metric\": 0.10849616, \"best_metric\": 0.07081603}, {\"run_id\": \"AutoML_e61e9cf9-07a6-4cdb-9ac4-6a0b475972f7_8\", \"run_number\": 1688709414, \"metric\": null, \"status\": \"Completed\", \"run_type\": null, \"training_percent\": \"100\", \"start_time\": \"2023-07-07T05:56:54.820067Z\", \"end_time\": \"2023-07-07T05:57:25.536771Z\", \"created_time\": \"2023-07-07T05:56:54.522211Z\", \"created_time_dt\": \"2023-07-07T05:56:54.522211Z\", \"duration\": \"0:00:31\", \"iteration\": \"8\", \"goal\": \"normalized_root_mean_squared_error_min\", \"run_name\": \"StandardScalerWrapper, ElasticNet\", \"run_properties\": \"copy=True, with_mean=True, with_std=False\", \"primary_metric\": 0.10856839, \"best_metric\": 0.07081603}, {\"run_id\": \"AutoML_e61e9cf9-07a6-4cdb-9ac4-6a0b475972f7_9\", \"run_number\": 1688709447, \"metric\": null, \"status\": \"Completed\", \"run_type\": null, \"training_percent\": \"100\", \"start_time\": \"2023-07-07T05:57:27.374502Z\", \"end_time\": \"2023-07-07T05:57:58.135874Z\", \"created_time\": \"2023-07-07T05:57:27.151132Z\", \"created_time_dt\": \"2023-07-07T05:57:27.151132Z\", \"duration\": \"0:00:30\", \"iteration\": \"9\", \"goal\": \"normalized_root_mean_squared_error_min\", \"run_name\": \"MaxAbsScaler, ElasticNet\", \"run_properties\": \"copy=True\", \"primary_metric\": 0.10854674, \"best_metric\": 0.07081603}, {\"run_id\": \"AutoML_e61e9cf9-07a6-4cdb-9ac4-6a0b475972f7_10\", \"run_number\": 1688709479, \"metric\": null, \"status\": \"Completed\", \"run_type\": null, \"training_percent\": \"100\", \"start_time\": \"2023-07-07T05:57:59.973236Z\", \"end_time\": \"2023-07-07T05:58:31.132892Z\", \"created_time\": \"2023-07-07T05:57:59.691263Z\", \"created_time_dt\": \"2023-07-07T05:57:59.691263Z\", \"duration\": \"0:00:31\", \"iteration\": \"10\", \"goal\": \"normalized_root_mean_squared_error_min\", \"run_name\": \"StandardScalerWrapper, ElasticNet\", \"run_properties\": \"copy=True, with_mean=True, with_std=False\", \"primary_metric\": 0.10856166, \"best_metric\": 0.07081603}, {\"run_id\": \"AutoML_e61e9cf9-07a6-4cdb-9ac4-6a0b475972f7_11\", \"run_number\": 1688709512, \"metric\": null, \"status\": \"Completed\", \"run_type\": null, \"training_percent\": \"100\", \"start_time\": \"2023-07-07T05:58:32.939052Z\", \"end_time\": \"2023-07-07T05:59:04.431842Z\", \"created_time\": \"2023-07-07T05:58:32.701687Z\", \"created_time_dt\": \"2023-07-07T05:58:32.701687Z\", \"duration\": \"0:00:31\", \"iteration\": \"11\", \"goal\": \"normalized_root_mean_squared_error_min\", \"run_name\": \"MinMaxScaler, ExtremeRandomTrees\", \"run_properties\": \"copy=True, feature_range=(0, 1\", \"primary_metric\": 0.07648486, \"best_metric\": 0.07081603}, {\"run_id\": \"AutoML_e61e9cf9-07a6-4cdb-9ac4-6a0b475972f7_12\", \"run_number\": 1688709545, \"metric\": null, \"status\": \"Completed\", \"run_type\": null, \"training_percent\": \"100\", \"start_time\": \"2023-07-07T05:59:06.229241Z\", \"end_time\": \"2023-07-07T05:59:38.823631Z\", \"created_time\": \"2023-07-07T05:59:05.98639Z\", \"created_time_dt\": \"2023-07-07T05:59:05.98639Z\", \"duration\": \"0:00:32\", \"iteration\": \"12\", \"goal\": \"normalized_root_mean_squared_error_min\", \"run_name\": \"MinMaxScaler, RandomForest\", \"run_properties\": \"copy=True, feature_range=(0, 1\", \"primary_metric\": 0.07190751, \"best_metric\": 0.07081603}, {\"run_id\": \"AutoML_e61e9cf9-07a6-4cdb-9ac4-6a0b475972f7_13\", \"run_number\": 1688709580, \"metric\": null, \"status\": \"Completed\", \"run_type\": null, \"training_percent\": \"100\", \"start_time\": \"2023-07-07T05:59:40.629702Z\", \"end_time\": \"2023-07-07T06:00:13.134203Z\", \"created_time\": \"2023-07-07T05:59:40.374506Z\", \"created_time_dt\": \"2023-07-07T05:59:40.374506Z\", \"duration\": \"0:00:32\", \"iteration\": \"13\", \"goal\": \"normalized_root_mean_squared_error_min\", \"run_name\": \"MinMaxScaler, ExtremeRandomTrees\", \"run_properties\": \"copy=True, feature_range=(0, 1\", \"primary_metric\": 0.07835192, \"best_metric\": 0.07081603}, {\"run_id\": \"AutoML_e61e9cf9-07a6-4cdb-9ac4-6a0b475972f7_14\", \"run_number\": 1688709614, \"metric\": null, \"status\": \"Completed\", \"run_type\": null, \"training_percent\": \"100\", \"start_time\": \"2023-07-07T06:00:15.02225Z\", \"end_time\": \"2023-07-07T06:00:46.96781Z\", \"created_time\": \"2023-07-07T06:00:14.745404Z\", \"created_time_dt\": \"2023-07-07T06:00:14.745404Z\", \"duration\": \"0:00:32\", \"iteration\": \"14\", \"goal\": \"normalized_root_mean_squared_error_min\", \"run_name\": \"MinMaxScaler, ExtremeRandomTrees\", \"run_properties\": \"copy=True, feature_range=(0, 1\", \"primary_metric\": 0.09607215, \"best_metric\": 0.07081603}, {\"run_id\": \"AutoML_e61e9cf9-07a6-4cdb-9ac4-6a0b475972f7_15\", \"run_number\": 1688709648, \"metric\": null, \"status\": \"Completed\", \"run_type\": null, \"training_percent\": \"100\", \"start_time\": \"2023-07-07T06:00:48.995372Z\", \"end_time\": \"2023-07-07T06:01:20.536588Z\", \"created_time\": \"2023-07-07T06:00:48.649914Z\", \"created_time_dt\": \"2023-07-07T06:00:48.649914Z\", \"duration\": \"0:00:31\", \"iteration\": \"15\", \"goal\": \"normalized_root_mean_squared_error_min\", \"run_name\": \"MaxAbsScaler, ExtremeRandomTrees\", \"run_properties\": \"copy=True\", \"primary_metric\": 0.07804617, \"best_metric\": 0.07081603}, {\"run_id\": \"AutoML_e61e9cf9-07a6-4cdb-9ac4-6a0b475972f7_16\", \"run_number\": 1688709682, \"metric\": null, \"status\": \"Completed\", \"run_type\": null, \"training_percent\": \"100\", \"start_time\": \"2023-07-07T06:01:22.436264Z\", \"end_time\": \"2023-07-07T06:01:54.321472Z\", \"created_time\": \"2023-07-07T06:01:22.163288Z\", \"created_time_dt\": \"2023-07-07T06:01:22.163288Z\", \"duration\": \"0:00:32\", \"iteration\": \"16\", \"goal\": \"normalized_root_mean_squared_error_min\", \"run_name\": \"MinMaxScaler, DecisionTree\", \"run_properties\": \"copy=True, feature_range=(0, 1\", \"primary_metric\": 0.09538428, \"best_metric\": 0.07081603}, {\"run_id\": \"AutoML_e61e9cf9-07a6-4cdb-9ac4-6a0b475972f7_17\", \"run_number\": 1688709716, \"metric\": null, \"status\": \"Completed\", \"run_type\": null, \"training_percent\": \"100\", \"start_time\": \"2023-07-07T06:01:56.295982Z\", \"end_time\": \"2023-07-07T06:02:28.232625Z\", \"created_time\": \"2023-07-07T06:01:55.995212Z\", \"created_time_dt\": \"2023-07-07T06:01:55.995212Z\", \"duration\": \"0:00:32\", \"iteration\": \"17\", \"goal\": \"normalized_root_mean_squared_error_min\", \"run_name\": \"RobustScaler, ExtremeRandomTrees\", \"run_properties\": \"copy=True, quantile_range=[10, 90], with_centering=False,\\n             with_scaling=False\", \"primary_metric\": 0.08006324, \"best_metric\": 0.07081603}, {\"run_id\": \"AutoML_e61e9cf9-07a6-4cdb-9ac4-6a0b475972f7_18\", \"run_number\": 1688709749, \"metric\": null, \"status\": \"Completed\", \"run_type\": null, \"training_percent\": \"100\", \"start_time\": \"2023-07-07T06:02:29.944631Z\", \"end_time\": \"2023-07-07T06:03:01.050154Z\", \"created_time\": \"2023-07-07T06:02:29.724879Z\", \"created_time_dt\": \"2023-07-07T06:02:29.724879Z\", \"duration\": \"0:00:31\", \"iteration\": \"18\", \"goal\": \"normalized_root_mean_squared_error_min\", \"run_name\": \"RobustScaler, DecisionTree\", \"run_properties\": \"copy=True, quantile_range=[10, 90], with_centering=False,\\n             with_scaling=False\", \"primary_metric\": 0.09558202, \"best_metric\": 0.07081603}, {\"run_id\": \"AutoML_e61e9cf9-07a6-4cdb-9ac4-6a0b475972f7_19\", \"run_number\": 1688709783, \"metric\": null, \"status\": \"Completed\", \"run_type\": null, \"training_percent\": \"100\", \"start_time\": \"2023-07-07T06:03:03.302238Z\", \"end_time\": \"2023-07-07T06:03:35.277468Z\", \"created_time\": \"2023-07-07T06:03:03.044361Z\", \"created_time_dt\": \"2023-07-07T06:03:03.044361Z\", \"duration\": \"0:00:32\", \"iteration\": \"19\", \"goal\": \"normalized_root_mean_squared_error_min\", \"run_name\": \"StandardScalerWrapper, ExtremeRandomTrees\", \"run_properties\": \"copy=True, with_mean=True, with_std=False\", \"primary_metric\": 0.09132687, \"best_metric\": 0.07081603}, {\"run_id\": \"AutoML_e61e9cf9-07a6-4cdb-9ac4-6a0b475972f7_20\", \"run_number\": 1688709817, \"metric\": null, \"status\": \"Completed\", \"run_type\": null, \"training_percent\": \"100\", \"start_time\": \"2023-07-07T06:03:37.379644Z\", \"end_time\": \"2023-07-07T06:04:08.078744Z\", \"created_time\": \"2023-07-07T06:03:37.136199Z\", \"created_time_dt\": \"2023-07-07T06:03:37.136199Z\", \"duration\": \"0:00:30\", \"iteration\": \"20\", \"goal\": \"normalized_root_mean_squared_error_min\", \"run_name\": \"StandardScalerWrapper, RandomForest\", \"run_properties\": \"copy=True, with_mean=True, with_std=False\", \"primary_metric\": 0.09444846, \"best_metric\": 0.07081603}, {\"run_id\": \"AutoML_e61e9cf9-07a6-4cdb-9ac4-6a0b475972f7_21\", \"run_number\": 1688709850, \"metric\": null, \"status\": \"Completed\", \"run_type\": null, \"training_percent\": \"100\", \"start_time\": \"2023-07-07T06:04:10.316357Z\", \"end_time\": \"2023-07-07T06:04:41.371741Z\", \"created_time\": \"2023-07-07T06:04:10.03453Z\", \"created_time_dt\": \"2023-07-07T06:04:10.03453Z\", \"duration\": \"0:00:31\", \"iteration\": \"21\", \"goal\": \"normalized_root_mean_squared_error_min\", \"run_name\": \"MinMaxScaler, LightGBM\", \"run_properties\": \"copy=True, feature_range=(0, 1\", \"primary_metric\": 0.08780109, \"best_metric\": 0.07081603}, {\"run_id\": \"AutoML_e61e9cf9-07a6-4cdb-9ac4-6a0b475972f7_22\", \"run_number\": 1688709882, \"metric\": null, \"status\": \"Completed\", \"run_type\": null, \"training_percent\": \"100\", \"start_time\": \"2023-07-07T06:04:43.144629Z\", \"end_time\": \"2023-07-07T06:05:15.302542Z\", \"created_time\": \"2023-07-07T06:04:42.889787Z\", \"created_time_dt\": \"2023-07-07T06:04:42.889787Z\", \"duration\": \"0:00:32\", \"iteration\": \"22\", \"goal\": \"normalized_root_mean_squared_error_min\", \"run_name\": \"StandardScalerWrapper, ExtremeRandomTrees\", \"run_properties\": \"copy=True, with_mean=True, with_std=True\", \"primary_metric\": 0.09654343, \"best_metric\": 0.07081603}, {\"run_id\": \"AutoML_e61e9cf9-07a6-4cdb-9ac4-6a0b475972f7_23\", \"run_number\": 1688709916, \"metric\": null, \"status\": \"Completed\", \"run_type\": null, \"training_percent\": \"100\", \"start_time\": \"2023-07-07T06:05:17.066373Z\", \"end_time\": \"2023-07-07T06:05:48.668719Z\", \"created_time\": \"2023-07-07T06:05:16.856953Z\", \"created_time_dt\": \"2023-07-07T06:05:16.856953Z\", \"duration\": \"0:00:31\", \"iteration\": \"23\", \"goal\": \"normalized_root_mean_squared_error_min\", \"run_name\": \"StandardScalerWrapper, ExtremeRandomTrees\", \"run_properties\": \"copy=True, with_mean=True, with_std=True\", \"primary_metric\": 0.09737033, \"best_metric\": 0.07081603}, {\"run_id\": \"AutoML_e61e9cf9-07a6-4cdb-9ac4-6a0b475972f7_24\", \"run_number\": 1688709950, \"metric\": null, \"status\": \"Completed\", \"run_type\": null, \"training_percent\": \"100\", \"start_time\": \"2023-07-07T06:05:50.370679Z\", \"end_time\": \"2023-07-07T06:06:24.142993Z\", \"created_time\": \"2023-07-07T06:05:50.132519Z\", \"created_time_dt\": \"2023-07-07T06:05:50.132519Z\", \"duration\": \"0:00:34\", \"iteration\": \"24\", \"goal\": \"normalized_root_mean_squared_error_min\", \"run_name\": \"RobustScaler, ExtremeRandomTrees\", \"run_properties\": \"copy=True, quantile_range=[10, 90], with_centering=False,\\n             with_scaling=True\", \"primary_metric\": 0.10073615, \"best_metric\": 0.07081603}, {\"run_id\": \"AutoML_e61e9cf9-07a6-4cdb-9ac4-6a0b475972f7_25\", \"run_number\": 1688709986, \"metric\": null, \"status\": \"Completed\", \"run_type\": null, \"training_percent\": \"100\", \"start_time\": \"2023-07-07T06:06:26.658408Z\", \"end_time\": \"2023-07-07T06:07:04.021413Z\", \"created_time\": \"2023-07-07T06:06:26.405076Z\", \"created_time_dt\": \"2023-07-07T06:06:26.405076Z\", \"duration\": \"0:00:37\", \"iteration\": \"25\", \"goal\": \"normalized_root_mean_squared_error_min\", \"run_name\": \"TruncatedSVDWrapper, XGBoostRegressor\", \"run_properties\": \"n_components=0.15842105263157896, random_state=None\", \"primary_metric\": 0.19958073, \"best_metric\": 0.07081603}, {\"run_id\": \"AutoML_e61e9cf9-07a6-4cdb-9ac4-6a0b475972f7_26\", \"run_number\": 1688710025, \"metric\": null, \"status\": \"Completed\", \"run_type\": null, \"training_percent\": \"100\", \"start_time\": \"2023-07-07T06:07:05.874252Z\", \"end_time\": \"2023-07-07T06:07:38.417048Z\", \"created_time\": \"2023-07-07T06:07:05.608336Z\", \"created_time_dt\": \"2023-07-07T06:07:05.608336Z\", \"duration\": \"0:00:32\", \"iteration\": \"26\", \"goal\": \"normalized_root_mean_squared_error_min\", \"run_name\": \"RobustScaler, ExtremeRandomTrees\", \"run_properties\": \"copy=True, quantile_range=[25, 75], with_centering=False,\\n             with_scaling=False\", \"primary_metric\": 0.08575124, \"best_metric\": 0.07081603}, {\"run_id\": \"AutoML_e61e9cf9-07a6-4cdb-9ac4-6a0b475972f7_27\", \"run_number\": 1688710059, \"metric\": null, \"status\": \"Completed\", \"run_type\": null, \"training_percent\": \"100\", \"start_time\": \"2023-07-07T06:07:40.097107Z\", \"end_time\": \"2023-07-07T06:08:10.902016Z\", \"created_time\": \"2023-07-07T06:07:39.800084Z\", \"created_time_dt\": \"2023-07-07T06:07:39.800084Z\", \"duration\": \"0:00:31\", \"iteration\": \"27\", \"goal\": \"normalized_root_mean_squared_error_min\", \"run_name\": \"RobustScaler, RandomForest\", \"run_properties\": \"copy=True, quantile_range=[10, 90], with_centering=True,\\n             with_scaling=True\", \"primary_metric\": 0.07729017, \"best_metric\": 0.07081603}, {\"run_id\": \"AutoML_e61e9cf9-07a6-4cdb-9ac4-6a0b475972f7_28\", \"run_number\": 1688710092, \"metric\": null, \"status\": \"Completed\", \"run_type\": null, \"training_percent\": \"100\", \"start_time\": \"2023-07-07T06:08:12.627986Z\", \"end_time\": \"2023-07-07T06:08:43.755578Z\", \"created_time\": \"2023-07-07T06:08:12.388892Z\", \"created_time_dt\": \"2023-07-07T06:08:12.388892Z\", \"duration\": \"0:00:31\", \"iteration\": \"28\", \"goal\": \"normalized_root_mean_squared_error_min\", \"run_name\": \"MinMaxScaler, ExtremeRandomTrees\", \"run_properties\": \"copy=True, feature_range=(0, 1\", \"primary_metric\": 0.10154284, \"best_metric\": 0.07081603}, {\"run_id\": \"AutoML_e61e9cf9-07a6-4cdb-9ac4-6a0b475972f7_29\", \"run_number\": 1688710125, \"metric\": null, \"status\": \"Canceled\", \"run_type\": null, \"training_percent\": \"100\", \"start_time\": \"2023-07-07T06:08:45.435683Z\", \"end_time\": \"2023-07-07T06:09:02.919531Z\", \"created_time\": \"2023-07-07T06:08:45.226958Z\", \"created_time_dt\": \"2023-07-07T06:08:45.226958Z\", \"duration\": \"0:00:17\", \"iteration\": \"29\", \"goal\": \"normalized_root_mean_squared_error_min\", \"run_name\": \"MinMaxScaler, ExtremeRandomTrees\", \"run_properties\": null}], \"children_metrics\": {\"categories\": [0], \"series\": {\"normalized_root_mean_squared_error\": [{\"categories\": [\"0\", \"1\", \"2\", \"3\", \"4\", \"5\", \"6\", \"7\", \"8\", \"9\", \"10\", \"11\", \"12\", \"13\", \"14\", \"15\", \"16\", \"17\", \"18\", \"19\", \"20\", \"21\", \"22\", \"23\", \"24\", \"25\", \"26\", \"27\", \"28\"], \"mode\": \"markers\", \"name\": \"normalized_root_mean_squared_error\", \"stepped\": false, \"type\": \"scatter\", \"data\": [0.07401666677412136, 0.07081602561082415, 0.10848183262174671, 0.10860077794569127, 0.10848894823838746, 0.10855493287981186, 0.0794441115151574, 0.10849615836386502, 0.10856839333121063, 0.1085467426719677, 0.10856165873679875, 0.07648485685757508, 0.07190751127324015, 0.07835192084180878, 0.09607215082961844, 0.07804617305532788, 0.09538427549291298, 0.08006324055760392, 0.09558201636518146, 0.09132686591939991, 0.09444845860409366, 0.08780108639801835, 0.09654342545365359, 0.09737033010301487, 0.10073615288510626, 0.19958072866520365, 0.08575124323703269, 0.07729016519007353, 0.1015428374461685]}, {\"categories\": [\"0\", \"1\", \"2\", \"3\", \"4\", \"5\", \"6\", \"7\", \"8\", \"9\", \"10\", \"11\", \"12\", \"13\", \"14\", \"15\", \"16\", \"17\", \"18\", \"19\", \"20\", \"21\", \"22\", \"23\", \"24\", \"25\", \"26\", \"27\", \"28\"], \"mode\": \"lines\", \"name\": \"normalized_root_mean_squared_error_min\", \"stepped\": true, \"type\": \"scatter\", \"data\": [0.07401666677412136, 0.07081602561082415, 0.07081602561082415, 0.07081602561082415, 0.07081602561082415, 0.07081602561082415, 0.07081602561082415, 0.07081602561082415, 0.07081602561082415, 0.07081602561082415, 0.07081602561082415, 0.07081602561082415, 0.07081602561082415, 0.07081602561082415, 0.07081602561082415, 0.07081602561082415, 0.07081602561082415, 0.07081602561082415, 0.07081602561082415, 0.07081602561082415, 0.07081602561082415, 0.07081602561082415, 0.07081602561082415, 0.07081602561082415, 0.07081602561082415, 0.07081602561082415, 0.07081602561082415, 0.07081602561082415, 0.07081602561082415]}], \"explained_variance\": [{\"categories\": [\"0\", \"1\", \"2\", \"3\", \"4\", \"5\", \"6\", \"7\", \"8\", \"9\", \"10\", \"11\", \"12\", \"13\", \"14\", \"15\", \"16\", \"17\", \"18\", \"19\", \"20\", \"21\", \"22\", \"23\", \"24\", \"25\", \"26\", \"27\", \"28\"], \"mode\": \"markers\", \"name\": \"explained_variance\", \"stepped\": false, \"type\": \"scatter\", \"data\": [0.8619700683166063, 0.8773325261864553, 0.7173250838284473, 0.7166608318860721, 0.7174419299859196, 0.7171319438937926, 0.8463912925999507, 0.7173230195178408, 0.7170398090667497, 0.7171384163991176, 0.7169940282859357, 0.8575481949235911, 0.8732629859999314, 0.8511040902784177, 0.7778876824969579, 0.8492434046488937, 0.7770959229202423, 0.8449790632904884, 0.7711364647500036, 0.7969965309795374, 0.7821625212433292, 0.8089832488239956, 0.7754150708605259, 0.7706341068692091, 0.7554572596602982, 0.048014775573484283, 0.8216845565938758, 0.854783953492198, 0.7522247190438768]}, {\"categories\": [\"0\", \"1\", \"2\", \"3\", \"4\", \"5\", \"6\", \"7\", \"8\", \"9\", \"10\", \"11\", \"12\", \"13\", \"14\", \"15\", \"16\", \"17\", \"18\", \"19\", \"20\", \"21\", \"22\", \"23\", \"24\", \"25\", \"26\", \"27\", \"28\"], \"mode\": \"lines\", \"name\": \"explained_variance_max\", \"stepped\": true, \"type\": \"scatter\", \"data\": [0.8619700683166063, 0.8773325261864553, 0.8773325261864553, 0.8773325261864553, 0.8773325261864553, 0.8773325261864553, 0.8773325261864553, 0.8773325261864553, 0.8773325261864553, 0.8773325261864553, 0.8773325261864553, 0.8773325261864553, 0.8773325261864553, 0.8773325261864553, 0.8773325261864553, 0.8773325261864553, 0.8773325261864553, 0.8773325261864553, 0.8773325261864553, 0.8773325261864553, 0.8773325261864553, 0.8773325261864553, 0.8773325261864553, 0.8773325261864553, 0.8773325261864553, 0.8773325261864553, 0.8773325261864553, 0.8773325261864553, 0.8773325261864553]}], \"median_absolute_error\": [{\"categories\": [\"0\", \"1\", \"2\", \"3\", \"4\", \"5\", \"6\", \"7\", \"8\", \"9\", \"10\", \"11\", \"12\", \"13\", \"14\", \"15\", \"16\", \"17\", \"18\", \"19\", \"20\", \"21\", \"22\", \"23\", \"24\", \"25\", \"26\", \"27\", \"28\"], \"mode\": \"markers\", \"name\": \"median_absolute_error\", \"stepped\": false, \"type\": \"scatter\", \"data\": [1.554434323222743, 1.636624736785889, 2.473223170284132, 2.483863023224875, 2.4965007545466302, 2.486768096828535, 1.696204761904762, 2.4750728393712818, 2.482814357140005, 2.491750296846628, 2.4728424413037677, 1.6361857142857148, 1.6406666666666652, 1.658244907518192, 2.000108662746875, 1.6085000000000007, 2.0451336317135564, 1.7611505744255758, 2.310048004626952, 1.7896094877731485, 2.042653230793034, 1.8709167835364309, 2.011758847543496, 1.9966815957615285, 1.9662705151582287, 4.822248573303222, 1.6920273556552892, 1.559976659451661, 2.1820678197836747]}, {\"categories\": [\"0\", \"1\", \"2\", \"3\", \"4\", \"5\", \"6\", \"7\", \"8\", \"9\", \"10\", \"11\", \"12\", \"13\", \"14\", \"15\", \"16\", \"17\", \"18\", \"19\", \"20\", \"21\", \"22\", \"23\", \"24\", \"25\", \"26\", \"27\", \"28\"], \"mode\": \"lines\", \"name\": \"median_absolute_error_min\", \"stepped\": true, \"type\": \"scatter\", \"data\": [1.554434323222743, 1.554434323222743, 1.554434323222743, 1.554434323222743, 1.554434323222743, 1.554434323222743, 1.554434323222743, 1.554434323222743, 1.554434323222743, 1.554434323222743, 1.554434323222743, 1.554434323222743, 1.554434323222743, 1.554434323222743, 1.554434323222743, 1.554434323222743, 1.554434323222743, 1.554434323222743, 1.554434323222743, 1.554434323222743, 1.554434323222743, 1.554434323222743, 1.554434323222743, 1.554434323222743, 1.554434323222743, 1.554434323222743, 1.554434323222743, 1.554434323222743, 1.554434323222743]}], \"root_mean_squared_log_error\": [{\"categories\": [\"0\", \"1\", \"2\", \"3\", \"4\", \"5\", \"6\", \"7\", \"8\", \"9\", \"10\", \"11\", \"12\", \"13\", \"14\", \"15\", \"16\", \"17\", \"18\", \"19\", \"20\", \"21\", \"22\", \"23\", \"24\", \"25\", \"26\", \"27\", \"28\"], \"mode\": \"markers\", \"name\": \"root_mean_squared_log_error\", \"stepped\": false, \"type\": \"scatter\", \"data\": [0.14929785299591816, 0.14616595049281844, 0.24655753448141834, 0.25560419946188984, 0.2471965820824992, 0.24790188700773097, 0.15217589301133125, 0.24725383402723913, 0.24857376480140447, 0.2479774301644427, 0.2510468220998889, 0.14851055769901364, 0.14822024026886652, 0.14750516655400317, 0.181260238451627, 0.15047652421612612, 0.19222522919220902, 0.15414371910725572, 0.1833572951035601, 0.17133680569012535, 0.17933666849936733, 0.16934106874381083, 0.1815260212088638, 0.18364242551526228, 0.18885500769814353, 0.3708958272897918, 0.16078280602907216, 0.15286789818004096, 0.19117625411402323]}, {\"categories\": [\"0\", \"1\", \"2\", \"3\", \"4\", \"5\", \"6\", \"7\", \"8\", \"9\", \"10\", \"11\", \"12\", \"13\", \"14\", \"15\", \"16\", \"17\", \"18\", \"19\", \"20\", \"21\", \"22\", \"23\", \"24\", \"25\", \"26\", \"27\", \"28\"], \"mode\": \"lines\", \"name\": \"root_mean_squared_log_error_min\", \"stepped\": true, \"type\": \"scatter\", \"data\": [0.14929785299591816, 0.14616595049281844, 0.14616595049281844, 0.14616595049281844, 0.14616595049281844, 0.14616595049281844, 0.14616595049281844, 0.14616595049281844, 0.14616595049281844, 0.14616595049281844, 0.14616595049281844, 0.14616595049281844, 0.14616595049281844, 0.14616595049281844, 0.14616595049281844, 0.14616595049281844, 0.14616595049281844, 0.14616595049281844, 0.14616595049281844, 0.14616595049281844, 0.14616595049281844, 0.14616595049281844, 0.14616595049281844, 0.14616595049281844, 0.14616595049281844, 0.14616595049281844, 0.14616595049281844, 0.14616595049281844, 0.14616595049281844]}], \"mean_absolute_error\": [{\"categories\": [\"0\", \"1\", \"2\", \"3\", \"4\", \"5\", \"6\", \"7\", \"8\", \"9\", \"10\", \"11\", \"12\", \"13\", \"14\", \"15\", \"16\", \"17\", \"18\", \"19\", \"20\", \"21\", \"22\", \"23\", \"24\", \"25\", \"26\", \"27\", \"28\"], \"mode\": \"markers\", \"name\": \"mean_absolute_error\", \"stepped\": false, \"type\": \"scatter\", \"data\": [2.2723381428057468, 2.2193081912353785, 3.4198546948583064, 3.4221417874335764, 3.4236830605539863, 3.4315029213931654, 2.381494959563029, 3.4231074086140274, 3.431235627211494, 3.4290861657919045, 3.4264016677493827, 2.3357776612282, 2.272572574904549, 2.3397644616949207, 2.819123594684778, 2.331274315666861, 2.886714674915992, 2.4381737151344574, 3.0116230196998477, 2.695027984224518, 2.840139532404114, 2.6525373194754667, 2.835086551288711, 2.825574256629031, 2.926840717741777, 6.595302272736274, 2.5091076445214253, 2.3108444748423347, 3.0269831994679133]}, {\"categories\": [\"0\", \"1\", \"2\", \"3\", \"4\", \"5\", \"6\", \"7\", \"8\", \"9\", \"10\", \"11\", \"12\", \"13\", \"14\", \"15\", \"16\", \"17\", \"18\", \"19\", \"20\", \"21\", \"22\", \"23\", \"24\", \"25\", \"26\", \"27\", \"28\"], \"mode\": \"lines\", \"name\": \"mean_absolute_error_min\", \"stepped\": true, \"type\": \"scatter\", \"data\": [2.2723381428057468, 2.2193081912353785, 2.2193081912353785, 2.2193081912353785, 2.2193081912353785, 2.2193081912353785, 2.2193081912353785, 2.2193081912353785, 2.2193081912353785, 2.2193081912353785, 2.2193081912353785, 2.2193081912353785, 2.2193081912353785, 2.2193081912353785, 2.2193081912353785, 2.2193081912353785, 2.2193081912353785, 2.2193081912353785, 2.2193081912353785, 2.2193081912353785, 2.2193081912353785, 2.2193081912353785, 2.2193081912353785, 2.2193081912353785, 2.2193081912353785, 2.2193081912353785, 2.2193081912353785, 2.2193081912353785, 2.2193081912353785]}], \"spearman_correlation\": [{\"categories\": [\"0\", \"1\", \"2\", \"3\", \"4\", \"5\", \"6\", \"7\", \"8\", \"9\", \"10\", \"11\", \"12\", \"13\", \"14\", \"15\", \"16\", \"17\", \"18\", \"19\", \"20\", \"21\", \"22\", \"23\", \"24\", \"25\", \"26\", \"27\", \"28\"], \"mode\": \"markers\", \"name\": \"spearman_correlation\", \"stepped\": false, \"type\": \"scatter\", \"data\": [0.9176692156736124, 0.9151279236775398, 0.8845963796890646, 0.8825169351179107, 0.8834648957991209, 0.8835606678975989, 0.9210193392344734, 0.8838995525141933, 0.883264697425521, 0.8834571402556073, 0.8831720238345667, 0.916667178546275, 0.9055167676049611, 0.9236628694288719, 0.9046034944860061, 0.9057613287937549, 0.8673689389993025, 0.914994363754859, 0.8641501419941873, 0.9034274749164142, 0.8887087862924389, 0.904871055418474, 0.906453369407829, 0.9053222201334845, 0.9001090103844216, 0.518156440757842, 0.9204069824448133, 0.9079897419453042, 0.8960660518010177]}, {\"categories\": [\"0\", \"1\", \"2\", \"3\", \"4\", \"5\", \"6\", \"7\", \"8\", \"9\", \"10\", \"11\", \"12\", \"13\", \"14\", \"15\", \"16\", \"17\", \"18\", \"19\", \"20\", \"21\", \"22\", \"23\", \"24\", \"25\", \"26\", \"27\", \"28\"], \"mode\": \"lines\", \"name\": \"spearman_correlation_max\", \"stepped\": true, \"type\": \"scatter\", \"data\": [0.9176692156736124, 0.9176692156736124, 0.9176692156736124, 0.9176692156736124, 0.9176692156736124, 0.9176692156736124, 0.9210193392344734, 0.9210193392344734, 0.9210193392344734, 0.9210193392344734, 0.9210193392344734, 0.9210193392344734, 0.9210193392344734, 0.9236628694288719, 0.9236628694288719, 0.9236628694288719, 0.9236628694288719, 0.9236628694288719, 0.9236628694288719, 0.9236628694288719, 0.9236628694288719, 0.9236628694288719, 0.9236628694288719, 0.9236628694288719, 0.9236628694288719, 0.9236628694288719, 0.9236628694288719, 0.9236628694288719, 0.9236628694288719]}], \"normalized_mean_absolute_error\": [{\"categories\": [\"0\", \"1\", \"2\", \"3\", \"4\", \"5\", \"6\", \"7\", \"8\", \"9\", \"10\", \"11\", \"12\", \"13\", \"14\", \"15\", \"16\", \"17\", \"18\", \"19\", \"20\", \"21\", \"22\", \"23\", \"24\", \"25\", \"26\", \"27\", \"28\"], \"mode\": \"markers\", \"name\": \"normalized_mean_absolute_error\", \"stepped\": false, \"type\": \"scatter\", \"data\": [0.050496403173461046, 0.04931795980523064, 0.07599677099685126, 0.0760475952763017, 0.07608184579008859, 0.07625562047540366, 0.05292211021251174, 0.07606905352475617, 0.07624968060469986, 0.07620191479537566, 0.07614225928331961, 0.05190617024951556, 0.050501612775656644, 0.05199476581544269, 0.06264719099299508, 0.05180609590370803, 0.06414921499813316, 0.054181638114099054, 0.06692495599332995, 0.05988951076054485, 0.06311421183120253, 0.058945273766121485, 0.06300192336197136, 0.06279053903620069, 0.06504090483870614, 0.14656227272747274, 0.05575794765603167, 0.05135209944094077, 0.06726629332150919]}, {\"categories\": [\"0\", \"1\", \"2\", \"3\", \"4\", \"5\", \"6\", \"7\", \"8\", \"9\", \"10\", \"11\", \"12\", \"13\", \"14\", \"15\", \"16\", \"17\", \"18\", \"19\", \"20\", \"21\", \"22\", \"23\", \"24\", \"25\", \"26\", \"27\", \"28\"], \"mode\": \"lines\", \"name\": \"normalized_mean_absolute_error_min\", \"stepped\": true, \"type\": \"scatter\", \"data\": [0.050496403173461046, 0.04931795980523064, 0.04931795980523064, 0.04931795980523064, 0.04931795980523064, 0.04931795980523064, 0.04931795980523064, 0.04931795980523064, 0.04931795980523064, 0.04931795980523064, 0.04931795980523064, 0.04931795980523064, 0.04931795980523064, 0.04931795980523064, 0.04931795980523064, 0.04931795980523064, 0.04931795980523064, 0.04931795980523064, 0.04931795980523064, 0.04931795980523064, 0.04931795980523064, 0.04931795980523064, 0.04931795980523064, 0.04931795980523064, 0.04931795980523064, 0.04931795980523064, 0.04931795980523064, 0.04931795980523064, 0.04931795980523064]}], \"normalized_root_mean_squared_log_error\": [{\"categories\": [\"0\", \"1\", \"2\", \"3\", \"4\", \"5\", \"6\", \"7\", \"8\", \"9\", \"10\", \"11\", \"12\", \"13\", \"14\", \"15\", \"16\", \"17\", \"18\", \"19\", \"20\", \"21\", \"22\", \"23\", \"24\", \"25\", \"26\", \"27\", \"28\"], \"mode\": \"markers\", \"name\": \"normalized_root_mean_squared_log_error\", \"stepped\": false, \"type\": \"scatter\", \"data\": [0.06976319496216282, 0.06829973436616747, 0.11521023914448146, 0.11943752198964909, 0.11550885028650189, 0.11583842183772881, 0.07110803189501315, 0.115535602704589, 0.11615237371694354, 0.11587372128687685, 0.11730797224032945, 0.06939531133765922, 0.06925965318133717, 0.06892551691627183, 0.08469842733997457, 0.07031395887792995, 0.08982209637769642, 0.07202754837048023, 0.08567833005873308, 0.08006145259089038, 0.08379959066610411, 0.07912889406519788, 0.08482262105032348, 0.08581156444959712, 0.08824727521022396, 0.173310448815214, 0.07512982952190503, 0.07143138879888529, 0.08933193626205212]}, {\"categories\": [\"0\", \"1\", \"2\", \"3\", \"4\", \"5\", \"6\", \"7\", \"8\", \"9\", \"10\", \"11\", \"12\", \"13\", \"14\", \"15\", \"16\", \"17\", \"18\", \"19\", \"20\", \"21\", \"22\", \"23\", \"24\", \"25\", \"26\", \"27\", \"28\"], \"mode\": \"lines\", \"name\": \"normalized_root_mean_squared_log_error_min\", \"stepped\": true, \"type\": \"scatter\", \"data\": [0.06976319496216282, 0.06829973436616747, 0.06829973436616747, 0.06829973436616747, 0.06829973436616747, 0.06829973436616747, 0.06829973436616747, 0.06829973436616747, 0.06829973436616747, 0.06829973436616747, 0.06829973436616747, 0.06829973436616747, 0.06829973436616747, 0.06829973436616747, 0.06829973436616747, 0.06829973436616747, 0.06829973436616747, 0.06829973436616747, 0.06829973436616747, 0.06829973436616747, 0.06829973436616747, 0.06829973436616747, 0.06829973436616747, 0.06829973436616747, 0.06829973436616747, 0.06829973436616747, 0.06829973436616747, 0.06829973436616747, 0.06829973436616747]}], \"mean_absolute_percentage_error\": [{\"categories\": [\"0\", \"1\", \"2\", \"3\", \"4\", \"5\", \"6\", \"7\", \"8\", \"9\", \"10\", \"11\", \"12\", \"13\", \"14\", \"15\", \"16\", \"17\", \"18\", \"19\", \"20\", \"21\", \"22\", \"23\", \"24\", \"25\", \"26\", \"27\", \"28\"], \"mode\": \"markers\", \"name\": \"mean_absolute_percentage_error\", \"stepped\": false, \"type\": \"scatter\", \"data\": [11.399763378928395, 11.155577935468248, 17.113618051058957, 17.213796609461173, 17.187524346609813, 17.23594829068307, 11.887845544730208, 17.1602236535796, 17.236097179332365, 17.22146300743779, 17.219984672899137, 11.656716429864247, 11.547617042998498, 11.501845014885694, 14.218108645314327, 11.608548368449048, 14.688439737293757, 12.111024392034684, 14.662412809825673, 13.225337383332706, 14.090572464064923, 13.218111006256578, 14.251021149578415, 14.288994571426503, 14.758390022305164, 32.72013317479882, 12.414988768401013, 11.68339857739101, 15.283250325424541]}, {\"categories\": [\"0\", \"1\", \"2\", \"3\", \"4\", \"5\", \"6\", \"7\", \"8\", \"9\", \"10\", \"11\", \"12\", \"13\", \"14\", \"15\", \"16\", \"17\", \"18\", \"19\", \"20\", \"21\", \"22\", \"23\", \"24\", \"25\", \"26\", \"27\", \"28\"], \"mode\": \"lines\", \"name\": \"mean_absolute_percentage_error_min\", \"stepped\": true, \"type\": \"scatter\", \"data\": [11.399763378928395, 11.155577935468248, 11.155577935468248, 11.155577935468248, 11.155577935468248, 11.155577935468248, 11.155577935468248, 11.155577935468248, 11.155577935468248, 11.155577935468248, 11.155577935468248, 11.155577935468248, 11.155577935468248, 11.155577935468248, 11.155577935468248, 11.155577935468248, 11.155577935468248, 11.155577935468248, 11.155577935468248, 11.155577935468248, 11.155577935468248, 11.155577935468248, 11.155577935468248, 11.155577935468248, 11.155577935468248, 11.155577935468248, 11.155577935468248, 11.155577935468248, 11.155577935468248]}], \"normalized_median_absolute_error\": [{\"categories\": [\"0\", \"1\", \"2\", \"3\", \"4\", \"5\", \"6\", \"7\", \"8\", \"9\", \"10\", \"11\", \"12\", \"13\", \"14\", \"15\", \"16\", \"17\", \"18\", \"19\", \"20\", \"21\", \"22\", \"23\", \"24\", \"25\", \"26\", \"27\", \"28\"], \"mode\": \"markers\", \"name\": \"normalized_median_absolute_error\", \"stepped\": false, \"type\": \"scatter\", \"data\": [0.034542984960505396, 0.03636943859524197, 0.05496051489520294, 0.05519695607166388, 0.05547779454548067, 0.055261513262856346, 0.03769343915343916, 0.05500161865269515, 0.05517365238088899, 0.05537222881881395, 0.05495205425119485, 0.036359682539682546, 0.036459259259259226, 0.0368498868337376, 0.044446859172152776, 0.03574444444444447, 0.045447414038079025, 0.03913667943167946, 0.05133440010282114, 0.0397690997282922, 0.045392294017622986, 0.0415759285230318, 0.04470575216763324, 0.04437070212803397, 0.04369490033684953, 0.10716107940673827, 0.03760060790345087, 0.03466614798781469, 0.04849039599519277]}, {\"categories\": [\"0\", \"1\", \"2\", \"3\", \"4\", \"5\", \"6\", \"7\", \"8\", \"9\", \"10\", \"11\", \"12\", \"13\", \"14\", \"15\", \"16\", \"17\", \"18\", \"19\", \"20\", \"21\", \"22\", \"23\", \"24\", \"25\", \"26\", \"27\", \"28\"], \"mode\": \"lines\", \"name\": \"normalized_median_absolute_error_min\", \"stepped\": true, \"type\": \"scatter\", \"data\": [0.034542984960505396, 0.034542984960505396, 0.034542984960505396, 0.034542984960505396, 0.034542984960505396, 0.034542984960505396, 0.034542984960505396, 0.034542984960505396, 0.034542984960505396, 0.034542984960505396, 0.034542984960505396, 0.034542984960505396, 0.034542984960505396, 0.034542984960505396, 0.034542984960505396, 0.034542984960505396, 0.034542984960505396, 0.034542984960505396, 0.034542984960505396, 0.034542984960505396, 0.034542984960505396, 0.034542984960505396, 0.034542984960505396, 0.034542984960505396, 0.034542984960505396, 0.034542984960505396, 0.034542984960505396, 0.034542984960505396, 0.034542984960505396]}], \"r2_score\": [{\"categories\": [\"0\", \"1\", \"2\", \"3\", \"4\", \"5\", \"6\", \"7\", \"8\", \"9\", \"10\", \"11\", \"12\", \"13\", \"14\", \"15\", \"16\", \"17\", \"18\", \"19\", \"20\", \"21\", \"22\", \"23\", \"24\", \"25\", \"26\", \"27\", \"28\"], \"mode\": \"markers\", \"name\": \"r2_score\", \"stepped\": false, \"type\": \"scatter\", \"data\": [0.8612721814303296, 0.8753309881864102, 0.7146975353360904, 0.714054346889711, 0.7147616819395866, 0.7144363798091243, 0.8458102923621207, 0.7146710461212079, 0.7143529076035137, 0.7144588218207885, 0.7143384388272572, 0.8570066029649187, 0.8713270485454494, 0.8504613488674677, 0.7767980006276178, 0.8479972657388469, 0.7756251800053222, 0.8446112423559089, 0.7699027542398671, 0.7961679634154797, 0.7812868766568328, 0.8087732449934559, 0.7739529042011839, 0.7694052911220395, 0.7539291110799499, 0.0372255334666731, 0.8207678382208357, 0.8544325753509344, 0.7509667763748913]}, {\"categories\": [\"0\", \"1\", \"2\", \"3\", \"4\", \"5\", \"6\", \"7\", \"8\", \"9\", \"10\", \"11\", \"12\", \"13\", \"14\", \"15\", \"16\", \"17\", \"18\", \"19\", \"20\", \"21\", \"22\", \"23\", \"24\", \"25\", \"26\", \"27\", \"28\"], \"mode\": \"lines\", \"name\": \"r2_score_max\", \"stepped\": true, \"type\": \"scatter\", \"data\": [0.8612721814303296, 0.8753309881864102, 0.8753309881864102, 0.8753309881864102, 0.8753309881864102, 0.8753309881864102, 0.8753309881864102, 0.8753309881864102, 0.8753309881864102, 0.8753309881864102, 0.8753309881864102, 0.8753309881864102, 0.8753309881864102, 0.8753309881864102, 0.8753309881864102, 0.8753309881864102, 0.8753309881864102, 0.8753309881864102, 0.8753309881864102, 0.8753309881864102, 0.8753309881864102, 0.8753309881864102, 0.8753309881864102, 0.8753309881864102, 0.8753309881864102, 0.8753309881864102, 0.8753309881864102, 0.8753309881864102, 0.8753309881864102]}], \"root_mean_squared_error\": [{\"categories\": [\"0\", \"1\", \"2\", \"3\", \"4\", \"5\", \"6\", \"7\", \"8\", \"9\", \"10\", \"11\", \"12\", \"13\", \"14\", \"15\", \"16\", \"17\", \"18\", \"19\", \"20\", \"21\", \"22\", \"23\", \"24\", \"25\", \"26\", \"27\", \"28\"], \"mode\": \"markers\", \"name\": \"root_mean_squared_error\", \"stepped\": false, \"type\": \"scatter\", \"data\": [3.330750004835461, 3.1867211524870864, 4.881682467978601, 4.887035007556108, 4.882002670727435, 4.8849719795915325, 3.5749850181820833, 4.8823271263739265, 4.885577699904478, 4.884603420238546, 4.8852746431559435, 3.441818558590879, 3.2358380072958064, 3.525836437881395, 4.32324678733283, 3.5120777874897557, 4.292292397181083, 3.6028458250921758, 4.301190736433165, 4.109708966372997, 4.250180637184215, 3.951048887910826, 4.344454145414412, 4.381664854635669, 4.533126879829782, 8.981132789934163, 3.8588059456664707, 3.4780574335533094, 4.569427685077582]}, {\"categories\": [\"0\", \"1\", \"2\", \"3\", \"4\", \"5\", \"6\", \"7\", \"8\", \"9\", \"10\", \"11\", \"12\", \"13\", \"14\", \"15\", \"16\", \"17\", \"18\", \"19\", \"20\", \"21\", \"22\", \"23\", \"24\", \"25\", \"26\", \"27\", \"28\"], \"mode\": \"lines\", \"name\": \"root_mean_squared_error_min\", \"stepped\": true, \"type\": \"scatter\", \"data\": [3.330750004835461, 3.1867211524870864, 3.1867211524870864, 3.1867211524870864, 3.1867211524870864, 3.1867211524870864, 3.1867211524870864, 3.1867211524870864, 3.1867211524870864, 3.1867211524870864, 3.1867211524870864, 3.1867211524870864, 3.1867211524870864, 3.1867211524870864, 3.1867211524870864, 3.1867211524870864, 3.1867211524870864, 3.1867211524870864, 3.1867211524870864, 3.1867211524870864, 3.1867211524870864, 3.1867211524870864, 3.1867211524870864, 3.1867211524870864, 3.1867211524870864, 3.1867211524870864, 3.1867211524870864, 3.1867211524870864, 3.1867211524870864]}]}, \"metricName\": null, \"primaryMetricName\": \"normalized_root_mean_squared_error\", \"showLegend\": false}, \"run_metrics\": [{\"name\": \"spearman_correlation\", \"run_id\": \"AutoML_e61e9cf9-07a6-4cdb-9ac4-6a0b475972f7\", \"categories\": [0], \"series\": [{\"data\": [0.9151279236775398]}]}, {\"name\": \"normalized_mean_absolute_error\", \"run_id\": \"AutoML_e61e9cf9-07a6-4cdb-9ac4-6a0b475972f7\", \"categories\": [0], \"series\": [{\"data\": [0.04931795980523064]}]}, {\"name\": \"explained_variance\", \"run_id\": \"AutoML_e61e9cf9-07a6-4cdb-9ac4-6a0b475972f7\", \"categories\": [0], \"series\": [{\"data\": [0.8773325261864553]}]}, {\"name\": \"mean_absolute_percentage_error\", \"run_id\": \"AutoML_e61e9cf9-07a6-4cdb-9ac4-6a0b475972f7\", \"categories\": [0], \"series\": [{\"data\": [11.155577935468248]}]}, {\"name\": \"r2_score\", \"run_id\": \"AutoML_e61e9cf9-07a6-4cdb-9ac4-6a0b475972f7\", \"categories\": [0], \"series\": [{\"data\": [0.8753309881864102]}]}, {\"name\": \"median_absolute_error\", \"run_id\": \"AutoML_e61e9cf9-07a6-4cdb-9ac4-6a0b475972f7\", \"categories\": [0], \"series\": [{\"data\": [1.636624736785889]}]}, {\"name\": \"normalized_median_absolute_error\", \"run_id\": \"AutoML_e61e9cf9-07a6-4cdb-9ac4-6a0b475972f7\", \"categories\": [0], \"series\": [{\"data\": [0.03636943859524197]}]}, {\"name\": \"root_mean_squared_error\", \"run_id\": \"AutoML_e61e9cf9-07a6-4cdb-9ac4-6a0b475972f7\", \"categories\": [0], \"series\": [{\"data\": [3.1867211524870864]}]}, {\"name\": \"normalized_root_mean_squared_log_error\", \"run_id\": \"AutoML_e61e9cf9-07a6-4cdb-9ac4-6a0b475972f7\", \"categories\": [0], \"series\": [{\"data\": [0.06829973436616747]}]}, {\"name\": \"mean_absolute_error\", \"run_id\": \"AutoML_e61e9cf9-07a6-4cdb-9ac4-6a0b475972f7\", \"categories\": [0], \"series\": [{\"data\": [2.2193081912353785]}]}, {\"name\": \"normalized_root_mean_squared_error\", \"run_id\": \"AutoML_e61e9cf9-07a6-4cdb-9ac4-6a0b475972f7\", \"categories\": [0], \"series\": [{\"data\": [0.07081602561082415]}]}, {\"name\": \"root_mean_squared_log_error\", \"run_id\": \"AutoML_e61e9cf9-07a6-4cdb-9ac4-6a0b475972f7\", \"categories\": [0], \"series\": [{\"data\": [0.14616595049281844]}]}], \"run_logs\": \"\\nRun is canceled.\", \"graph\": {}, \"widget_settings\": {\"childWidgetDisplay\": \"popup\", \"send_telemetry\": false, \"log_level\": \"INFO\", \"sdk_version\": \"1.49.0\"}, \"loading\": false}"
          },
          "metadata": {}
        }
      ],
      "execution_count": 9,
      "metadata": {
        "gather": {
          "logged": 1688710145667
        },
        "jupyter": {
          "outputs_hidden": false,
          "source_hidden": false
        },
        "nteract": {
          "transient": {
            "deleting": false
          }
        }
      }
    },
    {
      "cell_type": "markdown",
      "source": [
        "## Best Model\n",
        "\n",
        "TODO: In the cell below, get the best model from the automl experiments and display all the properties of the model.\n",
        "\n"
      ],
      "metadata": {}
    },
    {
      "cell_type": "code",
      "source": [
        "best_run, fitted_model = remote_run.get_output()\r\n",
        "print(best_run)\r\n",
        "best_run.register_model(model_name = 'automl_boston_model', model_path = './outputs')"
      ],
      "outputs": [
        {
          "output_type": "stream",
          "name": "stdout",
          "text": "Run(Experiment: report3-boston-predict,\nId: AutoML_e61e9cf9-07a6-4cdb-9ac4-6a0b475972f7_1,\nType: None,\nStatus: Completed)\n"
        },
        {
          "output_type": "execute_result",
          "execution_count": 10,
          "data": {
            "text/plain": "Model(workspace=Workspace.create(name='ws-udacity', subscription_id='8d1a13c1-dda4-4fdf-a927-e08a4213f4e3', resource_group='resoure-udacity'), name=automl_boston_model, id=automl_boston_model:1, version=1, tags={}, properties={})"
          },
          "metadata": {}
        }
      ],
      "execution_count": 10,
      "metadata": {
        "gather": {
          "logged": 1688710190818
        },
        "jupyter": {
          "outputs_hidden": false,
          "source_hidden": false
        },
        "nteract": {
          "transient": {
            "deleting": false
          }
        }
      }
    },
    {
      "cell_type": "markdown",
      "source": [
        "## Model Deployment\n",
        "\n",
        "Remember you have to deploy only one of the two models you trained but you still need to register both the models. Perform the steps in the rest of this notebook only if you wish to deploy this model.\n",
        "\n",
        "TODO: In the cell below, register the model, create an inference config and deploy the model as a web service."
      ],
      "metadata": {}
    },
    {
      "cell_type": "code",
      "source": [],
      "outputs": [],
      "execution_count": null,
      "metadata": {
        "jupyter": {
          "source_hidden": false,
          "outputs_hidden": false
        },
        "nteract": {
          "transient": {
            "deleting": false
          }
        }
      }
    },
    {
      "cell_type": "code",
      "source": [],
      "outputs": [],
      "execution_count": null,
      "metadata": {
        "gather": {
          "logged": 1688679365780
        },
        "jupyter": {
          "outputs_hidden": false,
          "source_hidden": false
        },
        "nteract": {
          "transient": {
            "deleting": false
          }
        }
      }
    },
    {
      "cell_type": "markdown",
      "source": [
        "TODO: In the cell below, send a request to the web service you deployed to test it."
      ],
      "metadata": {
        "collapsed": true,
        "gather": {
          "logged": 1598431657736
        },
        "jupyter": {
          "outputs_hidden": false,
          "source_hidden": false
        },
        "nteract": {
          "transient": {
            "deleting": false
          }
        }
      }
    },
    {
      "cell_type": "code",
      "source": [],
      "outputs": [],
      "execution_count": null,
      "metadata": {
        "gather": {
          "logged": 1688630744763
        },
        "jupyter": {
          "outputs_hidden": false,
          "source_hidden": false
        },
        "nteract": {
          "transient": {
            "deleting": false
          }
        }
      }
    },
    {
      "cell_type": "markdown",
      "source": [
        "TODO: In the cell below, print the logs of the web service and delete the service"
      ],
      "metadata": {
        "collapsed": true,
        "gather": {
          "logged": 1598432765711
        },
        "jupyter": {
          "outputs_hidden": false,
          "source_hidden": false
        },
        "nteract": {
          "transient": {
            "deleting": false
          }
        }
      }
    },
    {
      "cell_type": "code",
      "source": [],
      "outputs": [],
      "execution_count": null,
      "metadata": {
        "jupyter": {
          "outputs_hidden": false,
          "source_hidden": false
        },
        "nteract": {
          "transient": {
            "deleting": false
          }
        }
      }
    },
    {
      "cell_type": "markdown",
      "source": [
        "**Submission Checklist**\n",
        "- I have registered the model.\n",
        "- I have deployed the model with the best accuracy as a webservice.\n",
        "- I have tested the webservice by sending a request to the model endpoint.\n",
        "- I have deleted the webservice and shutdown all the computes that I have used.\n",
        "- I have taken a screenshot showing the model endpoint as active.\n",
        "- The project includes a file containing the environment details.\n"
      ],
      "metadata": {}
    },
    {
      "cell_type": "markdown",
      "source": [],
      "metadata": {}
    }
  ],
  "metadata": {
    "kernel_info": {
      "name": "python38-azureml"
    },
    "kernelspec": {
      "name": "python38-azureml",
      "language": "python",
      "display_name": "Python 3.8 - AzureML"
    },
    "language_info": {
      "name": "python",
      "version": "3.8.5",
      "mimetype": "text/x-python",
      "codemirror_mode": {
        "name": "ipython",
        "version": 3
      },
      "pygments_lexer": "ipython3",
      "nbconvert_exporter": "python",
      "file_extension": ".py"
    },
    "nteract": {
      "version": "nteract-front-end@1.0.0"
    },
    "microsoft": {
      "host": {
        "AzureML": {
          "notebookHasBeenCompleted": true
        }
      },
      "ms_spell_check": {
        "ms_spell_check_language": "en"
      }
    }
  },
  "nbformat": 4,
  "nbformat_minor": 2
}